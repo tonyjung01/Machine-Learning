{
  "cells": [
    {
      "cell_type": "markdown",
      "metadata": {
        "id": "view-in-github",
        "colab_type": "text"
      },
      "source": [
        "<a href=\"https://colab.research.google.com/github/tonyjung01/Machine-Learning/blob/main/8-3.ipynb\" target=\"_parent\"><img src=\"https://colab.research.google.com/assets/colab-badge.svg\" alt=\"Open In Colab\"/></a>"
      ]
    },
    {
      "cell_type": "markdown",
      "metadata": {
        "id": "Khb4cafb5-It"
      },
      "source": [
        "# 합성곱 신경망의 시각화"
      ]
    },
    {
      "cell_type": "markdown",
      "metadata": {
        "id": "gtBpMgcc5-I0"
      },
      "source": [
        "<table align=\"left\">\n",
        "  <td>\n",
        "    <a target=\"_blank\" href=\"https://colab.research.google.com/github/rickiepark/hg-mldl/blob/master/8-3.ipynb\"><img src=\"https://www.tensorflow.org/images/colab_logo_32px.png\" />구글 코랩에서 실행하기</a>\n",
        "  </td>\n",
        "</table>"
      ]
    },
    {
      "cell_type": "code",
      "execution_count": 1,
      "metadata": {
        "id": "sao-3wR_EG3L"
      },
      "outputs": [],
      "source": [
        "# 실행마다 동일한 결과를 얻기 위해 케라스에 랜덤 시드를 사용하고 텐서플로 연산을 결정적으로 만듭니다.\n",
        "import tensorflow as tf\n",
        "\n",
        "tf.keras.utils.set_random_seed(42)"
      ]
    },
    {
      "cell_type": "markdown",
      "metadata": {
        "id": "10YURv8s5-I0"
      },
      "source": [
        "## 가중치 시각화"
      ]
    },
    {
      "cell_type": "code",
      "execution_count": 2,
      "metadata": {
        "id": "Q7Uqs_t65-I0"
      },
      "outputs": [],
      "source": [
        "from tensorflow import keras"
      ]
    },
    {
      "cell_type": "code",
      "execution_count": 3,
      "metadata": {
        "colab": {
          "base_uri": "https://localhost:8080/"
        },
        "id": "FdM7Nyis5-I1",
        "outputId": "13b4c638-982f-4928-c092-8ffb7be6533e"
      },
      "outputs": [
        {
          "output_type": "stream",
          "name": "stdout",
          "text": [
            "--2025-02-12 15:26:52--  https://github.com/rickiepark/hg-mldl/raw/master/best-cnn-model.keras\n",
            "Resolving github.com (github.com)... 140.82.113.4\n",
            "Connecting to github.com (github.com)|140.82.113.4|:443... connected.\n",
            "HTTP request sent, awaiting response... 302 Found\n",
            "Location: https://raw.githubusercontent.com/rickiepark/hg-mldl/master/best-cnn-model.keras [following]\n",
            "--2025-02-12 15:26:53--  https://raw.githubusercontent.com/rickiepark/hg-mldl/master/best-cnn-model.keras\n",
            "Resolving raw.githubusercontent.com (raw.githubusercontent.com)... 185.199.108.133, 185.199.109.133, 185.199.110.133, ...\n",
            "Connecting to raw.githubusercontent.com (raw.githubusercontent.com)|185.199.108.133|:443... connected.\n",
            "HTTP request sent, awaiting response... 200 OK\n",
            "Length: 4038273 (3.9M) [application/octet-stream]\n",
            "Saving to: ‘best-cnn-model.keras’\n",
            "\n",
            "best-cnn-model.kera 100%[===================>]   3.85M  --.-KB/s    in 0.05s   \n",
            "\n",
            "2025-02-12 15:26:53 (73.5 MB/s) - ‘best-cnn-model.keras’ saved [4038273/4038273]\n",
            "\n"
          ]
        }
      ],
      "source": [
        "# 코랩에서 실행하는 경우에는 다음 명령을 실행하여 best-cnn-model.h5 파일을 다운로드받아 사용하세요.\n",
        "!wget https://github.com/rickiepark/hg-mldl/raw/master/best-cnn-model.keras"
      ]
    },
    {
      "cell_type": "code",
      "execution_count": 4,
      "metadata": {
        "id": "y6Fx0cai5-I1"
      },
      "outputs": [],
      "source": [
        "model = keras.models.load_model('best-cnn-model.keras')"
      ]
    },
    {
      "cell_type": "code",
      "execution_count": 5,
      "metadata": {
        "colab": {
          "base_uri": "https://localhost:8080/"
        },
        "id": "tOhJnNvW5-I1",
        "outputId": "69d5d08f-e847-4f6d-fe9e-98bdc37f9102",
        "scrolled": true
      },
      "outputs": [
        {
          "output_type": "execute_result",
          "data": {
            "text/plain": [
              "[<Conv2D name=conv2d, built=True>,\n",
              " <MaxPooling2D name=max_pooling2d, built=True>,\n",
              " <Conv2D name=conv2d_1, built=True>,\n",
              " <MaxPooling2D name=max_pooling2d_1, built=True>,\n",
              " <Flatten name=flatten, built=True>,\n",
              " <Dense name=dense, built=True>,\n",
              " <Dropout name=dropout, built=True>,\n",
              " <Dense name=dense_1, built=True>]"
            ]
          },
          "metadata": {},
          "execution_count": 5
        }
      ],
      "source": [
        "model.layers"
      ]
    },
    {
      "cell_type": "markdown",
      "source": [
        "이전 절에서 했던거 불러오기"
      ],
      "metadata": {
        "id": "D47J1WMdxooG"
      }
    },
    {
      "cell_type": "code",
      "execution_count": 6,
      "metadata": {
        "colab": {
          "base_uri": "https://localhost:8080/"
        },
        "id": "7e-EMS_h5-I2",
        "outputId": "ba1a8120-2d9f-447f-9e82-c56dfd37580e",
        "scrolled": true
      },
      "outputs": [
        {
          "output_type": "stream",
          "name": "stdout",
          "text": [
            "(3, 3, 1, 32) (32,)\n"
          ]
        }
      ],
      "source": [
        "conv = model.layers[0]\n",
        "\n",
        "print(conv.weights[0].shape, conv.weights[1].shape)"
      ]
    },
    {
      "cell_type": "markdown",
      "source": [
        "커널 크기 (3,3,1) 필터 개수 32  \n",
        "weights의 첫번째 원소인 가중치의 크기는 (3,3,1,32)  \n",
        "weights의 두번째 원소는 절편의 개수 (32,)"
      ],
      "metadata": {
        "id": "32a52Napx80i"
      }
    },
    {
      "cell_type": "code",
      "execution_count": 7,
      "metadata": {
        "colab": {
          "base_uri": "https://localhost:8080/"
        },
        "id": "D5WNlXS55-I3",
        "outputId": "6cb60838-99cc-44b9-a003-6a389588dd09"
      },
      "outputs": [
        {
          "output_type": "stream",
          "name": "stdout",
          "text": [
            "-0.014383553 0.23351653\n"
          ]
        }
      ],
      "source": [
        "conv_weights = conv.weights[0].numpy()\n",
        "\n",
        "print(conv_weights.mean(), conv_weights.std())"
      ]
    },
    {
      "cell_type": "markdown",
      "source": [
        "나중에 훈련하기 전 가중치랑 비교할거임"
      ],
      "metadata": {
        "id": "Q7GglY3Dya1G"
      }
    },
    {
      "cell_type": "code",
      "execution_count": 8,
      "metadata": {
        "id": "Mm_xATS95-I3"
      },
      "outputs": [],
      "source": [
        "import matplotlib.pyplot as plt"
      ]
    },
    {
      "cell_type": "code",
      "execution_count": 9,
      "metadata": {
        "colab": {
          "base_uri": "https://localhost:8080/",
          "height": 449
        },
        "id": "lm37R-hD5-I3",
        "outputId": "5850b63e-50c8-40ea-95ff-0256646fa286"
      },
      "outputs": [
        {
          "output_type": "display_data",
          "data": {
            "text/plain": [
              "<Figure size 640x480 with 1 Axes>"
            ],
            "image/png": "[encoded data removed]"
          },
          "metadata": {}
        }
      ],
      "source": [
        "plt.hist(conv_weights.reshape(-1, 1))\n",
        "plt.xlabel('weight')\n",
        "plt.ylabel('count')\n",
        "plt.show()"
      ]
    },
    {
      "cell_type": "code",
      "execution_count": 10,
      "metadata": {
        "colab": {
          "base_uri": "https://localhost:8080/",
          "height": 182
        },
        "id": "FBxjPV045-I4",
        "outputId": "670d0151-cc50-47f4-ae4c-0a2dc88f9561",
        "scrolled": true
      },
      "outputs": [
        {
          "output_type": "display_data",
          "data": {
            "text/plain": [
              "<Figure size 1500x200 with 32 Axes>"
            ],
            "image/png": "[encoded data removed]"
          },
          "metadata": {}
        }
      ],
      "source": [
        "fig, axs = plt.subplots(2, 16, figsize=(15,2))\n",
        "\n",
        "for i in range(2):\n",
        "    for j in range(16):\n",
        "        axs[i, j].imshow(conv_weights[:,:,0,i*16 + j], vmin=-0.5, vmax=0.5)\n",
        "        axs[i, j].axis('off')\n",
        "\n",
        "plt.show()"
      ]
    },
    {
      "cell_type": "markdown",
      "source": [
        "가중치 시각화해서 출력"
      ],
      "metadata": {
        "id": "AW8J0lqS12Bf"
      }
    },
    {
      "cell_type": "code",
      "execution_count": 11,
      "metadata": {
        "id": "P-r4Dx2N5-I4",
        "outputId": "827b55f3-3453-4b06-d73c-d235bc1a4774",
        "colab": {
          "base_uri": "https://localhost:8080/"
        }
      },
      "outputs": [
        {
          "output_type": "stream",
          "name": "stderr",
          "text": [
            "/usr/local/lib/python3.11/dist-packages/keras/src/layers/convolutional/base_conv.py:107: UserWarning: Do not pass an `input_shape`/`input_dim` argument to a layer. When using Sequential models, prefer using an `Input(shape)` object as the first layer in the model instead.\n",
            "  super().__init__(activity_regularizer=activity_regularizer, **kwargs)\n"
          ]
        }
      ],
      "source": [
        "no_training_model = keras.Sequential()\n",
        "\n",
        "no_training_model.add(keras.layers.Conv2D(32, kernel_size=3, activation='relu',\n",
        "                                          padding='same', input_shape=(28,28,1)))"
      ]
    },
    {
      "cell_type": "code",
      "execution_count": 12,
      "metadata": {
        "colab": {
          "base_uri": "https://localhost:8080/"
        },
        "id": "SRz0Z0z_5-I4",
        "outputId": "5d47cb73-9c6e-41b7-e6ca-33924ec516f2"
      },
      "outputs": [
        {
          "output_type": "stream",
          "name": "stdout",
          "text": [
            "(3, 3, 1, 32)\n"
          ]
        }
      ],
      "source": [
        "no_training_conv = no_training_model.layers[0]\n",
        "\n",
        "print(no_training_conv.weights[0].shape)"
      ]
    },
    {
      "cell_type": "code",
      "execution_count": 13,
      "metadata": {
        "colab": {
          "base_uri": "https://localhost:8080/"
        },
        "id": "7FUqZL695-I4",
        "outputId": "5069d7f3-702d-427f-be07-618fa77f053a"
      },
      "outputs": [
        {
          "output_type": "stream",
          "name": "stdout",
          "text": [
            "0.0053191613 0.08463709\n"
          ]
        }
      ],
      "source": [
        "no_training_weights = no_training_conv.weights[0].numpy()\n",
        "\n",
        "print(no_training_weights.mean(), no_training_weights.std())"
      ]
    },
    {
      "cell_type": "code",
      "execution_count": 14,
      "metadata": {
        "colab": {
          "base_uri": "https://localhost:8080/",
          "height": 449
        },
        "id": "DktjNm4Z5-I5",
        "outputId": "cc607656-20a3-482a-a456-164af5b4a7e9"
      },
      "outputs": [
        {
          "output_type": "display_data",
          "data": {
            "text/plain": [
              "<Figure size 640x480 with 1 Axes>"
            ],
            "image/png": "[encoded data removed]"
          },
          "metadata": {}
        }
      ],
      "source": [
        "plt.hist(no_training_weights.reshape(-1, 1))\n",
        "plt.xlabel('weight')\n",
        "plt.ylabel('count')\n",
        "plt.show()"
      ]
    },
    {
      "cell_type": "code",
      "execution_count": 15,
      "metadata": {
        "colab": {
          "base_uri": "https://localhost:8080/",
          "height": 182
        },
        "id": "b7QmwoUe5-I5",
        "outputId": "e263d6a4-d059-4970-8ee6-42272191d029",
        "scrolled": true
      },
      "outputs": [
        {
          "output_type": "display_data",
          "data": {
            "text/plain": [
              "<Figure size 1500x200 with 32 Axes>"
            ],
            "image/png": "[encoded data removed]"
          },
          "metadata": {}
        }
      ],
      "source": [
        "fig, axs = plt.subplots(2, 16, figsize=(15,2))\n",
        "\n",
        "for i in range(2):\n",
        "    for j in range(16):\n",
        "        axs[i, j].imshow(no_training_weights[:,:,0,i*16 + j], vmin=-0.5, vmax=0.5)\n",
        "        axs[i, j].axis('off')\n",
        "\n",
        "plt.show()"
      ]
    },
    {
      "cell_type": "markdown",
      "source": [
        "훈련 안한 모델과 비교  \n",
        "텐서플로가 신경망 가중치를 처음 초기화할 때 균등 분포에서 랜덤하게 선택하므로 비교적 균일함"
      ],
      "metadata": {
        "id": "_0GlaNw-16L3"
      }
    },
    {
      "cell_type": "markdown",
      "metadata": {
        "id": "GEc9KyP35-I6"
      },
      "source": [
        "## 함수형 API"
      ]
    },
    {
      "cell_type": "markdown",
      "source": [
        "sequential 클래스는 층을 차례대로 쌓은 모델을 만듬  \n",
        "입력이나 출력이 여러 개면 sequential 클래스 사용하기 어려울 수 있음 -> 이때 함수형 API 사용"
      ],
      "metadata": {
        "id": "T4e1HstF2Y1D"
      }
    },
    {
      "cell_type": "markdown",
      "source": [
        "직접 원하는대로 구조를 유연하게 정의하고, 다중 출력/입력을 가능하게 함  \n",
        "각 층이 독립된 객체로 생성되므로, 재사용 및 조작이 가능"
      ],
      "metadata": {
        "id": "ADgQpZjg3ghf"
      }
    },
    {
      "cell_type": "code",
      "execution_count": 16,
      "metadata": {
        "colab": {
          "base_uri": "https://localhost:8080/"
        },
        "id": "RZ27RyZJ5-I6",
        "outputId": "8973b17f-6d9a-4286-bf1b-a052b6791066"
      },
      "outputs": [
        {
          "output_type": "stream",
          "name": "stdout",
          "text": [
            "[<KerasTensor shape=(None, 28, 28, 1), dtype=float32, sparse=False, name=input_layer>]\n"
          ]
        }
      ],
      "source": [
        "print(model.inputs)"
      ]
    },
    {
      "cell_type": "code",
      "execution_count": 17,
      "metadata": {
        "id": "FfHfv9w_5-I6"
      },
      "outputs": [],
      "source": [
        "conv_acti = keras.Model(model.inputs, model.layers[0].output)"
      ]
    },
    {
      "cell_type": "markdown",
      "source": [
        "model.input과 model.layers[0].output을 연결하는 새로운 모델 생성"
      ],
      "metadata": {
        "id": "NJanogdC4SGh"
      }
    },
    {
      "cell_type": "markdown",
      "metadata": {
        "id": "CF6JzHj-5-I6"
      },
      "source": [
        "## 특성 맵 시각화"
      ]
    },
    {
      "cell_type": "code",
      "execution_count": 18,
      "metadata": {
        "colab": {
          "base_uri": "https://localhost:8080/"
        },
        "id": "TU5ENBPB5-I7",
        "outputId": "911ebaa7-1e68-485d-c48b-6c5fe2b71359"
      },
      "outputs": [
        {
          "output_type": "stream",
          "name": "stdout",
          "text": [
            "Downloading data from https://storage.googleapis.com/tensorflow/tf-keras-datasets/train-labels-idx1-ubyte.gz\n",
            "\u001b[1m29515/29515\u001b[0m \u001b[32m━━━━━━━━━━━━━━━━━━━━\u001b[0m\u001b[37m\u001b[0m \u001b[1m0s\u001b[0m 0us/step\n",
            "Downloading data from https://storage.googleapis.com/tensorflow/tf-keras-datasets/train-images-idx3-ubyte.gz\n",
            "\u001b[1m26421880/26421880\u001b[0m \u001b[32m━━━━━━━━━━━━━━━━━━━━\u001b[0m\u001b[37m\u001b[0m \u001b[1m0s\u001b[0m 0us/step\n",
            "Downloading data from https://storage.googleapis.com/tensorflow/tf-keras-datasets/t10k-labels-idx1-ubyte.gz\n",
            "\u001b[1m5148/5148\u001b[0m \u001b[32m━━━━━━━━━━━━━━━━━━━━\u001b[0m\u001b[37m\u001b[0m \u001b[1m0s\u001b[0m 0us/step\n",
            "Downloading data from https://storage.googleapis.com/tensorflow/tf-keras-datasets/t10k-images-idx3-ubyte.gz\n",
            "\u001b[1m4422102/4422102\u001b[0m \u001b[32m━━━━━━━━━━━━━━━━━━━━\u001b[0m\u001b[37m\u001b[0m \u001b[1m0s\u001b[0m 0us/step\n"
          ]
        }
      ],
      "source": [
        "(train_input, train_target), (test_input, test_target) = keras.datasets.fashion_mnist.load_data()"
      ]
    },
    {
      "cell_type": "code",
      "execution_count": 19,
      "metadata": {
        "colab": {
          "base_uri": "https://localhost:8080/",
          "height": 430
        },
        "id": "8-GBYsqm5-I7",
        "outputId": "c5c29461-29a7-4da5-e972-2d7d75fad46d"
      },
      "outputs": [
        {
          "output_type": "display_data",
          "data": {
            "text/plain": [
              "<Figure size 640x480 with 1 Axes>"
            ],
            "image/png": "[encoded data removed]"
          },
          "metadata": {}
        }
      ],
      "source": [
        "plt.imshow(train_input[0], cmap='gray_r')\n",
        "plt.show()"
      ]
    },
    {
      "cell_type": "code",
      "execution_count": 20,
      "metadata": {
        "id": "aJDrgyzo5-I7",
        "outputId": "3a6cbfcf-fc64-420f-f382-8969792070fd",
        "colab": {
          "base_uri": "https://localhost:8080/"
        }
      },
      "outputs": [
        {
          "output_type": "stream",
          "name": "stderr",
          "text": [
            "/usr/local/lib/python3.11/dist-packages/keras/src/models/functional.py:237: UserWarning: The structure of `inputs` doesn't match the expected structure.\n",
            "Expected: ['input_layer']\n",
            "Received: inputs=Tensor(shape=(1, 28, 28, 1))\n",
            "  warnings.warn(msg)\n"
          ]
        },
        {
          "output_type": "stream",
          "name": "stdout",
          "text": [
            "\u001b[1m1/1\u001b[0m \u001b[32m━━━━━━━━━━━━━━━━━━━━\u001b[0m\u001b[37m\u001b[0m \u001b[1m1s\u001b[0m 1s/step\n"
          ]
        }
      ],
      "source": [
        "inputs = train_input[0:1].reshape(-1, 28, 28, 1)/255.0\n",
        "\n",
        "feature_maps = conv_acti.predict(inputs)"
      ]
    },
    {
      "cell_type": "code",
      "execution_count": 21,
      "metadata": {
        "colab": {
          "base_uri": "https://localhost:8080/"
        },
        "id": "wYMHCQ0C5-I7",
        "outputId": "a07c4aab-bbaa-4eb5-bc98-288bdbdc52b3"
      },
      "outputs": [
        {
          "output_type": "stream",
          "name": "stdout",
          "text": [
            "(1, 28, 28, 32)\n"
          ]
        }
      ],
      "source": [
        "print(feature_maps.shape)"
      ]
    },
    {
      "cell_type": "markdown",
      "source": [
        "세임 패딩, 32개 필터  \n",
        "첫번째 차원은 배치 차원( 한 번에 몇 개의 데이터를 처리할 것인지 결정하는 차원)"
      ],
      "metadata": {
        "id": "z1mgIEd848o4"
      }
    },
    {
      "cell_type": "code",
      "execution_count": 22,
      "metadata": {
        "colab": {
          "base_uri": "https://localhost:8080/",
          "height": 642
        },
        "id": "n9hhqasw5-I7",
        "outputId": "9a814766-c46e-43ca-cdf6-6227438e2b2e"
      },
      "outputs": [
        {
          "output_type": "display_data",
          "data": {
            "text/plain": [
              "<Figure size 1500x800 with 32 Axes>"
            ],
            "image/png": "[encoded data removed]"
          },
          "metadata": {}
        }
      ],
      "source": [
        "fig, axs = plt.subplots(4, 8, figsize=(15,8))\n",
        "\n",
        "for i in range(4):\n",
        "    for j in range(8):\n",
        "        axs[i, j].imshow(feature_maps[0,:,:,i*8 + j])\n",
        "        axs[i, j].axis('off')\n",
        "\n",
        "plt.show()"
      ]
    },
    {
      "cell_type": "markdown",
      "source": [
        "32개의 필터로 인해 입력 이미지에서 강하게 활성화된 부분 보여줌"
      ],
      "metadata": {
        "id": "EGabMjmD6Ak8"
      }
    },
    {
      "cell_type": "code",
      "execution_count": 23,
      "metadata": {
        "id": "RBCPiHm_5-I8"
      },
      "outputs": [],
      "source": [
        "conv2_acti = keras.Model(model.inputs, model.layers[2].output)"
      ]
    },
    {
      "cell_type": "code",
      "execution_count": 24,
      "metadata": {
        "id": "n5U3pxZc5-I8",
        "outputId": "4e6359e8-f03f-4192-ef52-517ce6ef0956",
        "colab": {
          "base_uri": "https://localhost:8080/"
        }
      },
      "outputs": [
        {
          "output_type": "stream",
          "name": "stdout",
          "text": [
            "\u001b[1m1/1\u001b[0m \u001b[32m━━━━━━━━━━━━━━━━━━━━\u001b[0m\u001b[37m\u001b[0m \u001b[1m0s\u001b[0m 403ms/step\n"
          ]
        }
      ],
      "source": [
        "feature_maps = conv2_acti.predict(train_input[0:1].reshape(-1, 28, 28, 1)/255.0)"
      ]
    },
    {
      "cell_type": "code",
      "execution_count": 25,
      "metadata": {
        "colab": {
          "base_uri": "https://localhost:8080/"
        },
        "id": "9QcCxjOf5-I8",
        "outputId": "1d986316-fe65-453c-985c-9a1d4eb20a35"
      },
      "outputs": [
        {
          "output_type": "stream",
          "name": "stdout",
          "text": [
            "(1, 14, 14, 64)\n"
          ]
        }
      ],
      "source": [
        "print(feature_maps.shape)"
      ]
    },
    {
      "cell_type": "code",
      "execution_count": 26,
      "metadata": {
        "colab": {
          "base_uri": "https://localhost:8080/",
          "height": 961
        },
        "id": "6xc2oG6D5-I8",
        "outputId": "98db9809-d217-4d49-d925-c02fc6bcae01"
      },
      "outputs": [
        {
          "output_type": "display_data",
          "data": {
            "text/plain": [
              "<Figure size 1200x1200 with 64 Axes>"
            ],
            "image/png": "[encoded data removed]"
          },
          "metadata": {}
        }
      ],
      "source": [
        "fig, axs = plt.subplots(8, 8, figsize=(12,12))\n",
        "\n",
        "for i in range(8):\n",
        "    for j in range(8):\n",
        "        axs[i, j].imshow(feature_maps[0,:,:,i*8 + j])\n",
        "        axs[i, j].axis('off')\n",
        "\n",
        "plt.show()"
      ]
    },
    {
      "cell_type": "markdown",
      "source": [
        "얘는 시각적으로 이해하기 힘듬  \n",
        "✔ 첫 번째 합성곱 층에서는 엣지(경계선)와 같은 단순한 특징을 감지한다.  \n",
        "✔ 중간 합성곱 층에서는 얼굴의 일부분, 특정 텍스처 등의 패턴을 감지한다.  \n",
        "✔ 깊은 합성곱 층에서는 개, 자동차, 사람과 같은 고수준의 개념을 감지한다.  \n",
        "처음에는 선과 패턴이 분명하지만, 나중에는 신경망이 고유한 방식으로 데이터를 변환하여 학습하기 때문에 사람이 직관적으로 이해하기 어려움  \n",
        "CNN이 깊어질수록 감지하는 패턴이 점점 추상화되기 때문에, 특성 맵이 원본 이미지와 직접적인 연관성을 유지하지 않음"
      ],
      "metadata": {
        "id": "vqf_xjck6PGh"
      }
    }
  ],
  "metadata": {
    "accelerator": "GPU",
    "colab": {
      "name": "8-3.ipynb",
      "provenance": [],
      "include_colab_link": true
    },
    "kernelspec": {
      "display_name": "default:Python",
      "language": "python",
      "name": "conda-env-default-py"
    },
    "language_info": {
      "codemirror_mode": {
        "name": "ipython",
        "version": 3
      },
      "file_extension": ".py",
      "mimetype": "text/x-python",
      "name": "python",
      "nbconvert_exporter": "python",
      "pygments_lexer": "ipython3",
      "version": "3.9.10"
    }
  },
  "nbformat": 4,
  "nbformat_minor": 0
}